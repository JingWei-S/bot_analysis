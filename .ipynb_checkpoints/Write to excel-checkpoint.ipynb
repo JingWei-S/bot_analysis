{
 "cells": [
  {
   "cell_type": "code",
   "execution_count": 1,
   "id": "3d7900f3",
   "metadata": {},
   "outputs": [
    {
     "name": "stdout",
     "output_type": "stream",
     "text": [
      "Defaulting to user installation because normal site-packages is not writeable\n",
      "Requirement already satisfied: xlsxwriter in /Users/user/Library/Python/3.8/lib/python/site-packages (3.0.3)\n"
     ]
    }
   ],
   "source": [
    "!pip3 install xlsxwriter"
   ]
  },
  {
   "cell_type": "code",
   "execution_count": 2,
   "id": "d6dbc8fe",
   "metadata": {},
   "outputs": [],
   "source": [
    "import xlsxwriter\n",
    "from xlsxwriter.utility import xl_rowcol_to_cell\n",
    "import os, glob\n",
    "import re\n",
    "import numpy as np\n",
    "\n",
    "path = './Conversation history'\n",
    "\n",
    "\n",
    "def addItems(worksheet, columns):\n",
    "    worksheet.write('A1', 'Filename')\n",
    "    worksheet.write('B1', 'Condition')\n",
    "    worksheet.write('C1', 'Path')\n",
    "    for col in np.arange(len(columns)):\n",
    "        worksheet.write(0, 3+col, columns[col])\n",
    "    worksheet.write(0, 3+col+1, 'Percentage')\n",
    "    worksheet.write(0, 3+col+2, 'Completion')\n",
    "    worksheet.write(0, 3+col+3, 'Error')\n",
    "    left = 'D2'\n",
    "    right = xl_rowcol_to_cell(1, 3+col)\n",
    "    bottom = xl_rowcol_to_cell(100, 3+col)\n",
    "    ## write the percentage calculation formula at (1, 3+col+1)\n",
    "    worksheet.write_formula(1, 3+col+1, \"=Average(\"+left+\":\"+ right+\")\")\n",
    "    worksheet.data_validation('D2:{}'.format(bottom),{'validate': 'list',\n",
    "                                                      'source': [0, 1]})\n",
    "    top_completion = xl_rowcol_to_cell(1, 3+col+2)\n",
    "    bottom_completion = xl_rowcol_to_cell(100, 3+col+2)\n",
    "    worksheet.data_validation('{}:{}'.format(top_completion, bottom_completion),{'validate': 'list',\n",
    "                                                      'source': [0, 1]})\n",
    "    top_error = xl_rowcol_to_cell(1, 3+col+3)\n",
    "    bottom_error = xl_rowcol_to_cell(100, 3+col+3)\n",
    "    worksheet.data_validation('{}:{}'.format(top_error, bottom_error),{'validate': 'list',\n",
    "                                                      'source': ['None', 'Repetition', 'Loop', 'Self-talk', 'Others']})\n",
    "    return worksheet\n",
    "\n",
    "\n",
    "\n",
    "columns_sleep = ['Time to bed', 'Time took to fall asleep', 'Wake up at night', 'Wake up time', 'Sleep quality (1 to 10)']\n",
    "columns_work = ['Work done', 'Rate productivity (1 to 10)', 'Other concerns at work', 'What went well']\n",
    "columns_exercise = ['What workout', 'Workout duration', 'Feeling after workout', 'Fitness concerns']\n",
    "columns_diet = ['Breakfast', 'Lunch', 'Dinner', 'Snacks', 'Feelings after eating']\n",
    "\n",
    "workbook = xlsxwriter.Workbook('rater_file.xlsx')\n",
    "worksheet_sleep = addItems(workbook.add_worksheet('Sleep'), columns_sleep) \n",
    "worksheet_work = addItems(workbook.add_worksheet('Work'), columns_work)\n",
    "worksheet_exercise = addItems(workbook.add_worksheet('Exercise'), columns_exercise)\n",
    "worksheet_diet = addItems(workbook.add_worksheet('Diet'), columns_diet)\n",
    "\n",
    "c_sleep = 1\n",
    "c_work = 1\n",
    "c_exercise = 1\n",
    "c_diet = 1\n",
    "\n",
    "## below is the excel file formatting\n",
    "glob.glob(os.path.join(path, '*.txt'))\n",
    "for filename in glob.glob(os.path.join(path, '*/*/*.txt')):\n",
    "    read_filename = re.split('/',filename)[-1]\n",
    "    read_info = re.split('_|\\.', read_filename)\n",
    "    condition = read_info[1]\n",
    "    topic = read_info[0]\n",
    "    path = read_info[2]\n",
    "    if topic == 'sleep':\n",
    "        worksheet_sleep.write_url(c_sleep, 0, r'external:'+filename)\n",
    "        worksheet_sleep.write(c_sleep, 1, condition)\n",
    "        worksheet_sleep.write(c_sleep, 2, path)\n",
    "        c_sleep += 1\n",
    "    elif topic == 'work':\n",
    "        worksheet_work.write_url(c_work, 0, r'external:'+filename)\n",
    "        worksheet_work.write(c_work, 1, condition)\n",
    "        worksheet_work.write(c_work, 2, path)\n",
    "        c_work += 1\n",
    "    elif topic == 'exercise':\n",
    "        worksheet_exercise.write_url(c_exercise, 0, r'external:'+filename)\n",
    "        worksheet_exercise.write(c_exercise, 1, condition)\n",
    "        worksheet_exercise.write(c_exercise, 2, path)\n",
    "        c_exercise += 1\n",
    "    else:\n",
    "        worksheet_diet.write_url(c_diet, 0, r'external:'+filename)\n",
    "        worksheet_diet.write(c_diet, 1, condition)\n",
    "        worksheet_diet.write(c_diet, 2, path)\n",
    "        c_diet += 1\n",
    "\n",
    "        \n",
    "workbook.close()\n"
   ]
  },
  {
   "cell_type": "code",
   "execution_count": 13,
   "id": "7b445c38",
   "metadata": {},
   "outputs": [
    {
     "name": "stdout",
     "output_type": "stream",
     "text": [
      "Work done\n",
      "What went well\n",
      "Rate productivity (1 to 10)\n",
      "Other concerns at work\n"
     ]
    },
    {
     "data": {
      "text/plain": [
       "3"
      ]
     },
     "execution_count": 13,
     "metadata": {},
     "output_type": "execute_result"
    }
   ],
   "source": [
    "import numpy as np\n",
    "columns_work = ['Work done', 'What went well', 'Rate productivity (1 to 10)', 'Other concerns at work']\n",
    "for i in np.arange(4):\n",
    "    print(columns_work[i])\n",
    "i"
   ]
  },
  {
   "cell_type": "code",
   "execution_count": 50,
   "id": "8b2293af",
   "metadata": {},
   "outputs": [],
   "source": [
    "import xlsxwriter\n",
    "from xlsxwriter.utility import xl_rowcol_to_cell\n",
    "import os, glob\n",
    "import re\n",
    "import numpy as np\n",
    "import pandas as pd\n",
    "\n",
    "path = './Conversation history'\n",
    "dd = pd.read_csv('participant_id.csv')\n",
    "conv_all = []\n",
    "for filename in glob.glob(os.path.join(path, '*/*/*.txt')):\n",
    "    read_filename = re.split('/',filename)[-1]\n",
    "#     print(filename)\n",
    "    email_id = re.split('/',filename)[2]\n",
    "    read_info = re.split('_|\\.', read_filename)\n",
    "    condition = read_info[1]\n",
    "    topic = read_info[0]\n",
    "    path = read_info[2]\n",
    "    participant = dd[dd['Email'] == email_id]['Alias'].values[0]\n",
    "    with open(filename, 'r') as f:\n",
    "        content = f.read()\n",
    "        dialog_num = content.find('[Dialog]') \n",
    "        dialog = content[dialog_num+9:]\n",
    "        # remove one outlier\n",
    "        dialog = dialog.replace('\\n\\n', ' ')\n",
    "        # convert string to a list\n",
    "        dialog_ls = dialog.split('\\n')\n",
    "        \n",
    "\n",
    "        if int(condition) > 4:\n",
    "            condition = str(int(condition) - 4)\n",
    "\n",
    "        conv_cur = []\n",
    "        turn_num = 0\n",
    "        for turn in dialog_ls:\n",
    "            if turn[0] == 's':\n",
    "                speaker = 'system'\n",
    "                turn_num += 1\n",
    "            elif turn[0] == 'u':\n",
    "                speaker = 'user'\n",
    "                turn_num += 1\n",
    "            else:\n",
    "                speaker = 'ERROR'\n",
    "            conv_cur.append([participant, condition, topic, path, turn_num, turn, speaker])\n",
    "            \n",
    "        conv_all += conv_cur\n",
    "\n",
    "        \n",
    "df = pd.DataFrame(data=conv_all, columns = ['Participant', 'Condition', 'Topic', 'Path', 'Turn', 'Utterance', 'Speaker'])\n"
   ]
  },
  {
   "cell_type": "code",
   "execution_count": 51,
   "id": "8c2d2887",
   "metadata": {},
   "outputs": [],
   "source": [
    "df.to_excel('conversation_data.xlsx')"
   ]
  },
  {
   "cell_type": "code",
   "execution_count": 49,
   "id": "b73b6fed",
   "metadata": {},
   "outputs": [
    {
     "data": {
      "text/plain": [
       "'C'"
      ]
     },
     "execution_count": 49,
     "metadata": {},
     "output_type": "execute_result"
    }
   ],
   "source": [
    "df['Participant'][0][0]"
   ]
  },
  {
   "cell_type": "code",
   "execution_count": 42,
   "id": "d15dcb50",
   "metadata": {},
   "outputs": [
    {
     "data": {
      "text/plain": [
       "'kwh062793@naver.com'"
      ]
     },
     "execution_count": 42,
     "metadata": {},
     "output_type": "execute_result"
    }
   ],
   "source": [
    "email_id"
   ]
  },
  {
   "cell_type": "code",
   "execution_count": null,
   "id": "1be83dae",
   "metadata": {},
   "outputs": [],
   "source": []
  }
 ],
 "metadata": {
  "kernelspec": {
   "display_name": "Python 3 (ipykernel)",
   "language": "python",
   "name": "python3"
  },
  "language_info": {
   "codemirror_mode": {
    "name": "ipython",
    "version": 3
   },
   "file_extension": ".py",
   "mimetype": "text/x-python",
   "name": "python",
   "nbconvert_exporter": "python",
   "pygments_lexer": "ipython3",
   "version": "3.8.9"
  }
 },
 "nbformat": 4,
 "nbformat_minor": 5
}
